{
 "cells": [
  {
   "cell_type": "code",
   "execution_count": 9,
   "metadata": {},
   "outputs": [
    {
     "name": "stdout",
     "output_type": "stream",
     "text": [
      "/Users/khangnghiem/vietnam\n"
     ]
    },
    {
     "data": {
      "text/html": [
       "<div><style>\n",
       ".dataframe > thead > tr,\n",
       ".dataframe > tbody > tr {\n",
       "  text-align: right;\n",
       "  white-space: pre-wrap;\n",
       "}\n",
       "</style>\n",
       "<small>shape: (14_103, 16)</small><table border=\"1\" class=\"dataframe\"><thead><tr><th>Country Name</th><th>Country Code</th><th>Series Name</th><th>Series Code</th><th>1990 [YR1990]</th><th>2000 [YR2000]</th><th>2014 [YR2014]</th><th>2015 [YR2015]</th><th>2016 [YR2016]</th><th>2017 [YR2017]</th><th>2018 [YR2018]</th><th>2019 [YR2019]</th><th>2020 [YR2020]</th><th>2021 [YR2021]</th><th>2022 [YR2022]</th><th>2023 [YR2023]</th></tr><tr><td>str</td><td>str</td><td>str</td><td>str</td><td>str</td><td>str</td><td>str</td><td>str</td><td>str</td><td>str</td><td>str</td><td>str</td><td>str</td><td>str</td><td>str</td><td>str</td></tr></thead><tbody><tr><td>&quot;Viet Nam&quot;</td><td>&quot;VNM&quot;</td><td>&quot;Population, total&quot;</td><td>&quot;SP.POP.TOTL&quot;</td><td>&quot;66912613&quot;</td><td>&quot;79001142&quot;</td><td>&quot;91235504&quot;</td><td>&quot;92191398&quot;</td><td>&quot;93126529&quot;</td><td>&quot;94033048&quot;</td><td>&quot;94914330&quot;</td><td>&quot;95776716&quot;</td><td>&quot;96648685&quot;</td><td>&quot;97468029&quot;</td><td>&quot;98186856&quot;</td><td>&quot;98858950&quot;</td></tr><tr><td>&quot;Viet Nam&quot;</td><td>&quot;VNM&quot;</td><td>&quot;Population growth (annual %)&quot;</td><td>&quot;SP.POP.GROW&quot;</td><td>&quot;2.18510462921386&quot;</td><td>&quot;1.11686737378671&quot;</td><td>&quot;1.06639876535975&quot;</td><td>&quot;1.04227094610537&quot;</td><td>&quot;1.00922663268309&quot;</td><td>&quot;0.968719959338428&quot;</td><td>&quot;0.932840031984421&quot;</td><td>&quot;0.904491214904611&quot;</td><td>&quot;0.906299234852032&quot;</td><td>&quot;0.84418167703331&quot;</td><td>&quot;0.734794057662508&quot;</td><td>&quot;0.682172962745761&quot;</td></tr><tr><td>&quot;Viet Nam&quot;</td><td>&quot;VNM&quot;</td><td>&quot;Surface area (sq. km)&quot;</td><td>&quot;AG.SRF.TOTL.K2&quot;</td><td>&quot;331030&quot;</td><td>&quot;329240&quot;</td><td>&quot;331230&quot;</td><td>&quot;331230&quot;</td><td>&quot;331230&quot;</td><td>&quot;331230&quot;</td><td>&quot;331240&quot;</td><td>&quot;331310&quot;</td><td>&quot;331340&quot;</td><td>&quot;331340&quot;</td><td>&quot;..&quot;</td><td>&quot;..&quot;</td></tr><tr><td>&quot;Viet Nam&quot;</td><td>&quot;VNM&quot;</td><td>&quot;Population density (people per…</td><td>&quot;EN.POP.DNST&quot;</td><td>&quot;205.575019201819&quot;</td><td>&quot;253.973966437343&quot;</td><td>&quot;291.142141423425&quot;</td><td>&quot;294.181235102096&quot;</td><td>&quot;297.161429797662&quot;</td><td>&quot;300.038761594497&quot;</td><td>&quot;302.825616008729&quot;</td><td>&quot;305.577071681306&quot;</td><td>&quot;308.359102061392&quot;</td><td>&quot;310.973231577167&quot;</td><td>&quot;..&quot;</td><td>&quot;..&quot;</td></tr><tr><td>&quot;Viet Nam&quot;</td><td>&quot;VNM&quot;</td><td>&quot;Poverty headcount ratio at nat…</td><td>&quot;SI.POV.NAHC&quot;</td><td>&quot;..&quot;</td><td>&quot;..&quot;</td><td>&quot;..&quot;</td><td>&quot;..&quot;</td><td>&quot;9.2&quot;</td><td>&quot;7.9&quot;</td><td>&quot;6.8&quot;</td><td>&quot;5.7&quot;</td><td>&quot;4.8&quot;</td><td>&quot;..&quot;</td><td>&quot;4.3&quot;</td><td>&quot;..&quot;</td></tr><tr><td>&hellip;</td><td>&hellip;</td><td>&hellip;</td><td>&hellip;</td><td>&hellip;</td><td>&hellip;</td><td>&hellip;</td><td>&hellip;</td><td>&hellip;</td><td>&hellip;</td><td>&hellip;</td><td>&hellip;</td><td>&hellip;</td><td>&hellip;</td><td>&hellip;</td><td>&hellip;</td></tr><tr><td>null</td><td>null</td><td>null</td><td>null</td><td>null</td><td>null</td><td>null</td><td>null</td><td>null</td><td>null</td><td>null</td><td>null</td><td>null</td><td>null</td><td>null</td><td>null</td></tr><tr><td>null</td><td>null</td><td>null</td><td>null</td><td>null</td><td>null</td><td>null</td><td>null</td><td>null</td><td>null</td><td>null</td><td>null</td><td>null</td><td>null</td><td>null</td><td>null</td></tr><tr><td>null</td><td>null</td><td>null</td><td>null</td><td>null</td><td>null</td><td>null</td><td>null</td><td>null</td><td>null</td><td>null</td><td>null</td><td>null</td><td>null</td><td>null</td><td>null</td></tr><tr><td>&quot;Data from database: World Deve…</td><td>null</td><td>null</td><td>null</td><td>null</td><td>null</td><td>null</td><td>null</td><td>null</td><td>null</td><td>null</td><td>null</td><td>null</td><td>null</td><td>null</td><td>null</td></tr><tr><td>&quot;Last Updated: 10/24/2024&quot;</td><td>null</td><td>null</td><td>null</td><td>null</td><td>null</td><td>null</td><td>null</td><td>null</td><td>null</td><td>null</td><td>null</td><td>null</td><td>null</td><td>null</td><td>null</td></tr></tbody></table></div>"
      ],
      "text/plain": [
       "shape: (14_103, 16)\n",
       "┌───────────┬───────────┬───────────┬───────────┬───┬───────────┬───────────┬───────────┬──────────┐\n",
       "│ Country   ┆ Country   ┆ Series    ┆ Series    ┆ … ┆ 2020      ┆ 2021      ┆ 2022      ┆ 2023     │\n",
       "│ Name      ┆ Code      ┆ Name      ┆ Code      ┆   ┆ [YR2020]  ┆ [YR2021]  ┆ [YR2022]  ┆ [YR2023] │\n",
       "│ ---       ┆ ---       ┆ ---       ┆ ---       ┆   ┆ ---       ┆ ---       ┆ ---       ┆ ---      │\n",
       "│ str       ┆ str       ┆ str       ┆ str       ┆   ┆ str       ┆ str       ┆ str       ┆ str      │\n",
       "╞═══════════╪═══════════╪═══════════╪═══════════╪═══╪═══════════╪═══════════╪═══════════╪══════════╡\n",
       "│ Viet Nam  ┆ VNM       ┆ Populatio ┆ SP.POP.TO ┆ … ┆ 96648685  ┆ 97468029  ┆ 98186856  ┆ 98858950 │\n",
       "│           ┆           ┆ n, total  ┆ TL        ┆   ┆           ┆           ┆           ┆          │\n",
       "│ Viet Nam  ┆ VNM       ┆ Populatio ┆ SP.POP.GR ┆ … ┆ 0.9062992 ┆ 0.8441816 ┆ 0.7347940 ┆ 0.682172 │\n",
       "│           ┆           ┆ n growth  ┆ OW        ┆   ┆ 34852032  ┆ 7703331   ┆ 57662508  ┆ 96274576 │\n",
       "│           ┆           ┆ (annual   ┆           ┆   ┆           ┆           ┆           ┆ 1        │\n",
       "│           ┆           ┆ %)        ┆           ┆   ┆           ┆           ┆           ┆          │\n",
       "│ Viet Nam  ┆ VNM       ┆ Surface   ┆ AG.SRF.TO ┆ … ┆ 331340    ┆ 331340    ┆ ..        ┆ ..       │\n",
       "│           ┆           ┆ area (sq. ┆ TL.K2     ┆   ┆           ┆           ┆           ┆          │\n",
       "│           ┆           ┆ km)       ┆           ┆   ┆           ┆           ┆           ┆          │\n",
       "│ Viet Nam  ┆ VNM       ┆ Populatio ┆ EN.POP.DN ┆ … ┆ 308.35910 ┆ 310.97323 ┆ ..        ┆ ..       │\n",
       "│           ┆           ┆ n density ┆ ST        ┆   ┆ 2061392   ┆ 1577167   ┆           ┆          │\n",
       "│           ┆           ┆ (people   ┆           ┆   ┆           ┆           ┆           ┆          │\n",
       "│           ┆           ┆ per…      ┆           ┆   ┆           ┆           ┆           ┆          │\n",
       "│ Viet Nam  ┆ VNM       ┆ Poverty   ┆ SI.POV.NA ┆ … ┆ 4.8       ┆ ..        ┆ 4.3       ┆ ..       │\n",
       "│           ┆           ┆ headcount ┆ HC        ┆   ┆           ┆           ┆           ┆          │\n",
       "│           ┆           ┆ ratio at  ┆           ┆   ┆           ┆           ┆           ┆          │\n",
       "│           ┆           ┆ nat…      ┆           ┆   ┆           ┆           ┆           ┆          │\n",
       "│ …         ┆ …         ┆ …         ┆ …         ┆ … ┆ …         ┆ …         ┆ …         ┆ …        │\n",
       "│ null      ┆ null      ┆ null      ┆ null      ┆ … ┆ null      ┆ null      ┆ null      ┆ null     │\n",
       "│ null      ┆ null      ┆ null      ┆ null      ┆ … ┆ null      ┆ null      ┆ null      ┆ null     │\n",
       "│ null      ┆ null      ┆ null      ┆ null      ┆ … ┆ null      ┆ null      ┆ null      ┆ null     │\n",
       "│ Data from ┆ null      ┆ null      ┆ null      ┆ … ┆ null      ┆ null      ┆ null      ┆ null     │\n",
       "│ database: ┆           ┆           ┆           ┆   ┆           ┆           ┆           ┆          │\n",
       "│ World     ┆           ┆           ┆           ┆   ┆           ┆           ┆           ┆          │\n",
       "│ Deve…     ┆           ┆           ┆           ┆   ┆           ┆           ┆           ┆          │\n",
       "│ Last      ┆ null      ┆ null      ┆ null      ┆ … ┆ null      ┆ null      ┆ null      ┆ null     │\n",
       "│ Updated:  ┆           ┆           ┆           ┆   ┆           ┆           ┆           ┆          │\n",
       "│ 10/24/202 ┆           ┆           ┆           ┆   ┆           ┆           ┆           ┆          │\n",
       "│ 4         ┆           ┆           ┆           ┆   ┆           ┆           ┆           ┆          │\n",
       "└───────────┴───────────┴───────────┴───────────┴───┴───────────┴───────────┴───────────┴──────────┘"
      ]
     },
     "execution_count": 9,
     "metadata": {},
     "output_type": "execute_result"
    }
   ],
   "source": [
    "import os\n",
    "import polars as pl\n",
    "\n",
    "ROOT_DIR = os.path.abspath(os.path.join(os.getcwd(), \"../../../..\"))\n",
    "\n",
    "df = pl.read_csv(\n",
    "    f\"{ROOT_DIR}/data/raw/world_bank/2024/11/51c8dcf2-fe1e-4326-a009-e06da3bdc91d_Data.csv\"\n",
    ")\n",
    "print(ROOT_DIR)\n",
    "df"
   ]
  }
 ],
 "metadata": {
  "kernelspec": {
   "display_name": "Python 3",
   "language": "python",
   "name": "python3"
  },
  "language_info": {
   "codemirror_mode": {
    "name": "ipython",
    "version": 3
   },
   "file_extension": ".py",
   "mimetype": "text/x-python",
   "name": "python",
   "nbconvert_exporter": "python",
   "pygments_lexer": "ipython3",
   "version": "3.12.0"
  }
 },
 "nbformat": 4,
 "nbformat_minor": 2
}
